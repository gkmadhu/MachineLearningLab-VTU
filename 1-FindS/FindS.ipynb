{
 "cells": [
  {
   "cell_type": "code",
   "execution_count": 1,
   "metadata": {},
   "outputs": [
    {
     "name": "stdout",
     "output_type": "stream",
     "text": [
      "['Sky', 'Temp', 'Humidity', 'Wind', 'Water', 'Forecast']\n",
      "NUM 6\n",
      "Dataset :  [['day', 'outlook', 'temp', 'humidity', 'wind', 'play'], ['D1', 'Sunny', 'Hot', 'High', 'Weak', 'No'], ['D2', 'Sunny', 'Hot', 'High', 'Strong', 'No'], ['D3', 'Overcast', 'Hot', 'High', 'Weak', 'Yes'], ['D4', 'Rain', 'Mild', 'High', 'Weak', 'Yes'], ['D5', 'Rain', 'Cool', 'Normal', 'Weak', 'Yes'], ['D6', 'Rain', 'Cool', 'Normal', 'Strong', 'No'], ['D7', 'Overcast', 'Cool', 'Normal', 'Strong', 'Yes'], ['D8', 'Sunny', 'Mild', 'High', 'Weak', 'No'], ['D9', 'Sunny', 'Cool', 'Normal', 'Weak', 'Yes'], ['D10', 'Rain', 'Mild', 'Normal', 'Weak', 'Yes'], ['D11', 'Sunny', 'Mild', 'Normal', 'Strong', 'Yes'], ['D12', 'Overcast', 'Mild', 'High', 'Strong', 'Yes'], ['D13', 'Overcast', 'Hot', 'Normal', 'Weak', 'Yes'], ['D14', 'Rain', 'Mild', 'High', 'Strong', 'No']]\n",
      "['Yes', 'Yes', 'No', 'Yes']\n",
      "['0', '0', '0', '0', '0', '0']\n",
      "The Hypothesis are\n",
      "1 = ['day', 'outlook', 'temp', 'humidity', 'wind', 'play']\n",
      "2 = ['?', '?', '?', '?', '?', '?']\n",
      "3 = ['?', '?', '?', '?', '?', '?']\n",
      "4 = ['?', '?', '?', '?', '?', '?']\n",
      "Final Hypothesis\n",
      "['?', '?', '?', '?', '?', '?']\n"
     ]
    }
   ],
   "source": [
    "import csv\n",
    "def loadCsv(filename):\n",
    "    lines = csv.reader(open(filename))\n",
    "    dataset = list(lines)\n",
    "    print(\"Dataset : \",dataset)\n",
    "    return dataset\n",
    "\n",
    "attributes = ['Sky','Temp','Humidity','Wind','Water','Forecast']\n",
    "print(attributes)\n",
    "num_attributes = len(attributes)\n",
    "print(\"NUM\",num_attributes)\n",
    "\n",
    "filename = \"tennis.csv\"\n",
    "dataset = loadCsv(filename)\n",
    "\n",
    "target=['Yes','Yes','No','Yes']\n",
    "print(target)\n",
    "\n",
    "hypothesis=['0'] * num_attributes\n",
    "print(hypothesis)\n",
    "\n",
    "print(\"The Hypothesis are\")\n",
    "for i in range(len(target)):\n",
    "    \n",
    "    if(target[i] == 'Yes'):\n",
    "        for j in range(num_attributes):        \n",
    "            if(hypothesis[j]=='0'):\n",
    "                hypothesis[j] = dataset[i][j]\n",
    "            if(hypothesis[j]!= dataset[i][j]):\n",
    "                hypothesis[j]='?'\n",
    "      \n",
    "    print(i+1,'=',hypothesis)\n",
    "    \n",
    "print(\"Final Hypothesis\")\n",
    "print(hypothesis)"
   ]
  },
  {
   "cell_type": "code",
   "execution_count": null,
   "metadata": {},
   "outputs": [],
   "source": []
  }
 ],
 "metadata": {
  "kernelspec": {
   "display_name": "Python 3",
   "language": "python",
   "name": "python3"
  },
  "language_info": {
   "codemirror_mode": {
    "name": "ipython",
    "version": 3
   },
   "file_extension": ".py",
   "mimetype": "text/x-python",
   "name": "python",
   "nbconvert_exporter": "python",
   "pygments_lexer": "ipython3",
   "version": "3.7.3"
  }
 },
 "nbformat": 4,
 "nbformat_minor": 2
}
