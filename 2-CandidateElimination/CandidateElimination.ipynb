{
 "cells": [
  {
   "cell_type": "code",
   "execution_count": 1,
   "metadata": {},
   "outputs": [
    {
     "name": "stdout",
     "output_type": "stream",
     "text": [
      "[[' Sunny' 'Warm' 'Normal' 'Strong' ' Warm' 'Same']\n",
      " [' Sunny' 'Warm' 'High' 'Strong' 'Warm' 'Same']\n",
      " [' Rainy' 'Cold' 'High' 'Strong' 'Warm' 'Change']\n",
      " [' Sunny' 'Warm' 'High' 'Strong' 'Cool' 'Change']]\n",
      "['Yes' 'Yes' 'No' 'Yes']\n",
      "S0 = [' Sunny' 'Warm' 'Normal' 'Strong' ' Warm' 'Same']\n",
      "G0 = [['?', '?', '?', '?', '?', '?'], ['?', '?', '?', '?', '?', '?'], ['?', '?', '?', '?', '?', '?'], ['?', '?', '?', '?', '?', '?'], ['?', '?', '?', '?', '?', '?'], ['?', '?', '?', '?', '?', '?']]\n",
      "S1 = [' Sunny' 'Warm' '?' 'Strong' '?' 'Same']\n",
      "G1 = [['?', '?', '?', '?', '?', '?'], ['?', '?', '?', '?', '?', '?'], ['?', '?', '?', '?', '?', '?'], ['?', '?', '?', '?', '?', '?'], ['?', '?', '?', '?', '?', '?'], ['?', '?', '?', '?', '?', '?']]\n",
      "S2 = [' Sunny' 'Warm' '?' 'Strong' '?' 'Same']\n",
      "G2 = [[' Sunny', '?', '?', '?', '?', '?'], ['?', 'Warm', '?', '?', '?', '?'], ['?', '?', '?', '?', '?', '?'], ['?', '?', '?', '?', '?', '?'], ['?', '?', '?', '?', '?', '?'], ['?', '?', '?', '?', '?', 'Same']]\n",
      "S3 = [' Sunny' 'Warm' '?' 'Strong' '?' '?']\n",
      "G3 = [[' Sunny', '?', '?', '?', '?', '?'], ['?', 'Warm', '?', '?', '?', '?'], ['?', '?', '?', '?', '?', '?'], ['?', '?', '?', '?', '?', '?'], ['?', '?', '?', '?', '?', '?'], ['?', '?', '?', '?', '?', '?']]\n",
      "Final Specific Hypothesis:  [' Sunny' 'Warm' '?' 'Strong' '?' '?']\n",
      "Final General Hypothesis [[' Sunny', '?', '?', '?', '?', '?'], ['?', 'Warm', '?', '?', '?', '?']]\n"
     ]
    }
   ],
   "source": [
    "import numpy as np\n",
    "import pandas as pd\n",
    "\n",
    "data = pd.DataFrame(data=pd.read_csv('tennis2.csv', header=None))\n",
    "\n",
    "concept = np.array(data.iloc[1:, 0:-1])\n",
    "result = np.array(data.iloc[1:, -1])\n",
    "print(concept)\n",
    "print(result)\n",
    "\n",
    "specific = concept[0].copy()\n",
    "general = [['?' for i in range(len(specific))] for j in range(len(specific))]\n",
    "\n",
    "for i in range(len(concept)):\n",
    "    if result[i] == 'Yes':\n",
    "        for j in range(len(specific)):\n",
    "            if concept[i][j] != specific[j]:\n",
    "                specific[j] = '?'\n",
    "                general[j][j] = '?'\n",
    "    if result[i] == 'No':\n",
    "        for j in range(len(specific)):\n",
    "            if concept[i][j] != specific[j]:\n",
    "                general[j][j] = specific[j]\n",
    "            else:\n",
    "                general[j][j] = '?'\n",
    "    print(\"S{} = {}\".format(i,specific))\n",
    "    print(\"G{} = {}\".format(i,general))\n",
    "\n",
    "general = list(filter(lambda x: x != ['?'] * len(x), general))\n",
    "if not general:\n",
    "    general = ['?'] * len(specific)\n",
    "\n",
    "print(\"Final Specific Hypothesis: \", specific)\n",
    "print(\"Final General Hypothesis\", general)\n"
   ]
  },
  {
   "cell_type": "code",
   "execution_count": null,
   "metadata": {},
   "outputs": [],
   "source": []
  }
 ],
 "metadata": {
  "kernelspec": {
   "display_name": "Python 3",
   "language": "python",
   "name": "python3"
  },
  "language_info": {
   "codemirror_mode": {
    "name": "ipython",
    "version": 3
   },
   "file_extension": ".py",
   "mimetype": "text/x-python",
   "name": "python",
   "nbconvert_exporter": "python",
   "pygments_lexer": "ipython3",
   "version": "3.7.3"
  }
 },
 "nbformat": 4,
 "nbformat_minor": 2
}
