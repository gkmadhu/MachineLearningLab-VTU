{
 "cells": [
  {
   "cell_type": "code",
   "execution_count": 1,
   "metadata": {},
   "outputs": [
    {
     "name": "stdout",
     "output_type": "stream",
     "text": [
      "Iris Data set loaded...\n",
      "Dataset is split into training and testing...\n",
      "Size of trainng data and its label (135, 4) (135,)\n",
      "Size of testing data and its label (15, 4) (15,)\n",
      "Label 0 - setosa\n",
      "Label 1 - versicolor\n",
      "Label 2 - virginica\n",
      "Results of Classification using K-nn with K=1\n",
      " Sample: [7.7 2.6 6.9 2.3] Actual-label: 2  Predicted-label: 2\n",
      " Sample: [6.4 3.1 5.5 1.8] Actual-label: 2  Predicted-label: 2\n",
      " Sample: [4.5 2.3 1.3 0.3] Actual-label: 0  Predicted-label: 0\n",
      " Sample: [5.8 2.8 5.1 2.4] Actual-label: 2  Predicted-label: 2\n",
      " Sample: [6.  3.4 4.5 1.6] Actual-label: 1  Predicted-label: 1\n",
      " Sample: [5.4 3.9 1.7 0.4] Actual-label: 0  Predicted-label: 0\n",
      " Sample: [5.6 2.8 4.9 2. ] Actual-label: 2  Predicted-label: 2\n",
      " Sample: [6.5 3.  5.5 1.8] Actual-label: 2  Predicted-label: 2\n",
      " Sample: [6.9 3.1 4.9 1.5] Actual-label: 1  Predicted-label: 1\n",
      " Sample: [5.7 3.  4.2 1.2] Actual-label: 1  Predicted-label: 1\n",
      " Sample: [6.8 3.2 5.9 2.3] Actual-label: 2  Predicted-label: 2\n",
      " Sample: [6.5 3.  5.2 2. ] Actual-label: 2  Predicted-label: 2\n",
      " Sample: [4.9 3.6 1.4 0.1] Actual-label: 0  Predicted-label: 0\n",
      " Sample: [5.1 2.5 3.  1.1] Actual-label: 1  Predicted-label: 1\n",
      " Sample: [5.4 3.7 1.5 0.2] Actual-label: 0  Predicted-label: 0\n",
      "Classification Accuracy : 1.0\n"
     ]
    }
   ],
   "source": [
    "from sklearn.model_selection import train_test_split \n",
    "from sklearn.neighbors import KNeighborsClassifier \n",
    "from sklearn import datasets\n",
    "\n",
    "iris=datasets.load_iris() \n",
    "print(\"Iris Data set loaded...\")\n",
    "\n",
    "xtrain, xtest, ytrain, ytest = train_test_split(iris.data,iris.target,test_size=0.1) \n",
    "print(\"Dataset is split into training and testing...\")\n",
    "print(\"Size of trainng data and its label\",xtrain.shape,ytrain.shape) \n",
    "print(\"Size of testing data and its label\",xtest.shape, ytest.shape)\n",
    "\n",
    "for i in range(len(iris.target_names)):\n",
    "    print(\"Label\", i , \"-\",str(iris.target_names[i]))\n",
    "\n",
    "classifier = KNeighborsClassifier(n_neighbors=1)\n",
    "classifier.fit(xtrain, ytrain) \n",
    "ypred=classifier.predict(xtest)\n",
    "\n",
    "print(\"Results of Classification using K-nn with K=1\") \n",
    "for r in range(0,len(xtest)):\n",
    "    print(\" Sample:\", str(xtest[r]), \"Actual-label:\", str(ytest[r]), \" Predicted-label:\",str(ypred[r]))\n",
    "    \n",
    "print(\"Classification Accuracy :\" , classifier.score(xtest,ytest));"
   ]
  },
  {
   "cell_type": "code",
   "execution_count": null,
   "metadata": {},
   "outputs": [],
   "source": []
  }
 ],
 "metadata": {
  "kernelspec": {
   "display_name": "Python 3",
   "language": "python",
   "name": "python3"
  },
  "language_info": {
   "codemirror_mode": {
    "name": "ipython",
    "version": 3
   },
   "file_extension": ".py",
   "mimetype": "text/x-python",
   "name": "python",
   "nbconvert_exporter": "python",
   "pygments_lexer": "ipython3",
   "version": "3.7.3"
  }
 },
 "nbformat": 4,
 "nbformat_minor": 2
}
